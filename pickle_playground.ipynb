{
 "cells": [
  {
   "cell_type": "code",
   "execution_count": 1,
   "metadata": {},
   "outputs": [],
   "source": [
    "import pickle\n",
    "\n",
    "data_file = './pickle_jar/foods.pickle'\n",
    "data_dict = pickle.load(open(data_file, 'rb'))"
   ]
  },
  {
   "cell_type": "code",
   "execution_count": 2,
   "metadata": {},
   "outputs": [
    {
     "name": "stdout",
     "output_type": "stream",
     "text": [
      "apple1\n",
      "apple2\n",
      "cookie2\n",
      "egg1\n",
      "egg2\n",
      "hamburger1\n",
      "hamburger2\n",
      "water\n",
      "milk\n",
      "peach1\n",
      "peach2\n",
      "cheese\n",
      "bread1\n",
      "bread2\n",
      "cake1\n",
      "cake2\n",
      "orange\n",
      "pear1\n",
      "pear2\n",
      "butter\n",
      "corn1\n",
      "corn2\n",
      "potato\n"
     ]
    }
   ],
   "source": [
    "for key, value in data_dict.items():\n",
    "    print(key)"
   ]
  },
  {
   "cell_type": "code",
   "execution_count": 1,
   "metadata": {},
   "outputs": [
    {
     "name": "stdout",
     "output_type": "stream",
     "text": [
      "egg found\n"
     ]
    }
   ],
   "source": [
    "my_list = ['egg2', 'egg1']\n",
    "if 'egg1' in my_list:\n",
    "    print('egg found')"
   ]
  },
  {
   "cell_type": "code",
   "execution_count": null,
   "metadata": {},
   "outputs": [],
   "source": []
  }
 ],
 "metadata": {
  "kernelspec": {
   "display_name": "Python 3",
   "language": "python",
   "name": "python3"
  },
  "language_info": {
   "codemirror_mode": {
    "name": "ipython",
    "version": 3
   },
   "file_extension": ".py",
   "mimetype": "text/x-python",
   "name": "python",
   "nbconvert_exporter": "python",
   "pygments_lexer": "ipython3",
   "version": "3.11.4"
  }
 },
 "nbformat": 4,
 "nbformat_minor": 2
}
