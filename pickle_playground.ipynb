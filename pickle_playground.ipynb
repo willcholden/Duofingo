{
 "cells": [
  {
   "cell_type": "code",
   "execution_count": 1,
   "metadata": {},
   "outputs": [],
   "source": [
    "import pickle\n",
    "\n",
    "data_file = './pickle_jar/basics.pickle'\n",
    "data_dict = pickle.load(open(data_file, 'rb'))"
   ]
  },
  {
   "cell_type": "code",
   "execution_count": 2,
   "metadata": {},
   "outputs": [
    {
     "name": "stdout",
     "output_type": "stream",
     "text": [
      "hello1\n",
      "hello2\n",
      "me\n",
      "father\n",
      "mother\n",
      "yes1\n",
      "yes2\n",
      "no1\n",
      "no2\n",
      "help\n",
      "please1\n",
      "please2\n",
      "thanks1\n",
      "thanks2\n",
      "want\n",
      "what1\n",
      "repeat\n",
      "more\n",
      "fine\n",
      "learn1\n",
      "learn2\n",
      "sign1\n",
      "sign2\n",
      "finish1\n",
      "finish2\n"
     ]
    }
   ],
   "source": [
    "for key, value in data_dict.items():\n",
    "    print(key)"
   ]
  },
  {
   "cell_type": "code",
   "execution_count": 1,
   "metadata": {},
   "outputs": [
    {
     "name": "stdout",
     "output_type": "stream",
     "text": [
      "egg found\n"
     ]
    }
   ],
   "source": []
  },
  {
   "cell_type": "code",
   "execution_count": null,
   "metadata": {},
   "outputs": [],
   "source": []
  }
 ],
 "metadata": {
  "kernelspec": {
   "display_name": "Python 3",
   "language": "python",
   "name": "python3"
  },
  "language_info": {
   "codemirror_mode": {
    "name": "ipython",
    "version": 3
   },
   "file_extension": ".py",
   "mimetype": "text/x-python",
   "name": "python",
   "nbconvert_exporter": "python",
   "pygments_lexer": "ipython3",
   "version": "3.11.4"
  }
 },
 "nbformat": 4,
 "nbformat_minor": 2
}
